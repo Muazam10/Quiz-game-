# Importing time module to introduce pauses in the quiz
import time

# Function to run a single round of the quiz
def run_quiz():
    print("Welcome to the Python Quiz Game!")
    print("You'll be asked 5 questions. Let's begin!\n")
    time.sleep(1)  # Pause for better user experience

    # List of dictionaries, each representing a quiz question
    questions = [
        {
            "question": "What is the capital of Pakistan?",
            "options": ["Lahore", "Karachi", "Islamabad", "Peshawar"],
            "correct_index": 2  # Correct answer is "Islamabad"
        },
        {
            "question": "What is 2 + 2?",
            "options": ["2", "3", "4", "5"],
            "correct_index": 2  # Correct answer is "4"
        },
        {
            "question": "Which programming language are we learning?",
            "options": ["Java", "C++", "C#", "Python"],
            "correct_index": 3  # Correct answer is "Python"
        },
        {
            "question": "Who is the founder of Pakistan?",
            "options": ["Allama Iqbal", "Sir Syed", "Quaid-e-Azam", "Liaquat Ali"],
            "correct_index": 2  # Correct answer is "Quaid-e-Azam"
        },
        {
            "question": "Which one is a search engine?",
            "options": ["YouTube", "Chrome", "Google", "Edge"],
            "correct_index": 2  # Correct answer is "Google"
        }
    ]

    score = 0  # Initialize score counter

    # Loop through each question
    for q in questions:
        print("\n=================================", flush=True)
        print("Question:", flush=True)
        print(q["question"], flush=True)
        print("Options:", flush=True)

        # Display all options with numbering (1-based index)
        for i, option in enumerate(q["options"], 1):
            print(f"{i}. {option}", flush=True)
        print("=================================\n", flush=True)

        # Loop to get valid user input
        while True:
            user_input = input("Enter your answer (1-4) or 'Q' to quit: ").strip().upper()

            if user_input == 'Q':
                print("\nQuiz aborted. Goodbye!", flush=True)
                return  # Exit the quiz early

            if user_input.isdigit():
                choice = int(user_input)
                if 1 <= choice <= 4:
                    # Check if user's choice is correct
                    if choice - 1 == q["correct_index"]:
                        print("✅ Correct!", flush=True)
                        score += 1  # Increase score
                    else:
                        correct_answer = q["options"][q["correct_index"]]
                        print(f"❌ Wrong! The correct answer is: {correct_answer}", flush=True)
                    break  # Exit input loop for current question
                else:
                    print("❗ Please enter a number between 1 and 4.", flush=True)
            else:
                print("❗ Invalid input! Enter a number (1-4) or 'Q' to quit.", flush=True)

        time.sleep(1)  # Small pause before next question

    # Display final score after all questions
    print("\n" + "=" * 40, flush=True)
    print("🎉 Quiz Completed! 🎉", flush=True)
    print(f"Your Final Score: {score}/{len(questions)}", flush=True)
    print(f"Percentage: {(score / len(questions)) * 100:.1f}%", flush=True)
    print("=" * 40 + "\n", flush=True)


# Wrapper function to allow replaying the quiz
def quiz_game():
    while True:
        run_quiz()  # Run a single round
        while True:
            replay = input("Would you like to play again? (Y/N): ").strip().upper()
            if replay == 'Y':
                break  # Break inner loop and start quiz again
            elif replay == 'N':
                print("Thanks for playing! Goodbye!", flush=True)
                return  # Exit the game
            else:
                print("❗ Please enter Y or N.", flush=True)


# Start the quiz game
quiz_game()
